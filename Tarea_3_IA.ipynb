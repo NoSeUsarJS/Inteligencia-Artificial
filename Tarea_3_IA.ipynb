{
  "nbformat": 4,
  "nbformat_minor": 0,
  "metadata": {
    "colab": {
      "provenance": [],
      "authorship_tag": "ABX9TyM2IMqE4ve3KDE0eFFW05pF",
      "include_colab_link": true
    },
    "kernelspec": {
      "name": "python3",
      "display_name": "Python 3"
    },
    "language_info": {
      "name": "python"
    }
  },
  "cells": [
    {
      "cell_type": "markdown",
      "metadata": {
        "id": "view-in-github",
        "colab_type": "text"
      },
      "source": [
        "<a href=\"https://colab.research.google.com/github/NoSeUsarJS/Inteligencia-Artificial/blob/main/Tarea_3_IA.ipynb\" target=\"_parent\"><img src=\"https://colab.research.google.com/assets/colab-badge.svg\" alt=\"Open In Colab\"/></a>"
      ]
    },
    {
      "cell_type": "code",
      "execution_count": null,
      "metadata": {
        "id": "J7gNHC_85ElV"
      },
      "outputs": [],
      "source": [
        "import pandas as pd\n",
        "from sklearn.model_selection import train_test_split\n",
        "from sklearn.svm import SVC\n",
        "from sklearn.linear_model import LogisticRegression\n",
        "from sklearn.metrics import accuracy_score, precision_score\n",
        "\n",
        "#Lectura y modificación del dataset\n",
        "df = pd.read_csv('Life Expectancy Data v2.csv')\n",
        "df = df.dropna()\n",
        "\n",
        "#Eligiendo etiquetas para construir la entrada y la salida\n",
        "features = ['Adult Mortality (men)', 'Alcohol', 'Hepatitis B(men)']\n",
        "target = 'Status'\n",
        "\n",
        "X = df[features]\n",
        "y = df[target]\n",
        "\n",
        "#Preparando la data para el entrenamiento\n",
        "X_train, X_test, y_train, y_test = train_test_split(X, y, test_size=0.3, random_state=84)"
      ]
    },
    {
      "cell_type": "code",
      "source": [
        "#Preparando el modelo\n",
        "svm_model = SVC(kernel='linear')\n",
        "\n",
        "#Entrenamiento\n",
        "svm_model.fit(X_train, y_train)\n",
        "\n",
        "#Se guardan los resultados del modelo para realizar la comparación con los Y originales\n",
        "svm_predictions = svm_model.predict(X_test)\n",
        "\n",
        "#Se calculan la exactitud y precisión del modelo utilizando los datos predichos y los datos originales.\n",
        "accuracy = accuracy_score(y_test, svm_predictions)\n",
        "precision = precision_score(y_test, svm_predictions, pos_label='Developing')\n",
        "\n",
        "print(\"Exactitud: \", accuracy)\n",
        "print(\"Precisión:\", precision)"
      ],
      "metadata": {
        "colab": {
          "base_uri": "https://localhost:8080/"
        },
        "id": "uD7HtThKVdzI",
        "outputId": "167e3b39-0a7e-449d-c193-2aa92f51feea"
      },
      "execution_count": null,
      "outputs": [
        {
          "output_type": "stream",
          "name": "stdout",
          "text": [
            "Exactitud:  0.8998410174880763\n",
            "Precisión: 0.9361702127659575\n"
          ]
        }
      ]
    },
    {
      "cell_type": "markdown",
      "source": [
        "Antes de comparar las métricas de exactitud y precisión, se debe aclarar la definición de cada una.\n",
        "\n",
        "La exactitud, matemáticamente es:\n",
        "\n",
        "Exactitud = (Verdaderos positivos + Verdaderos negativos) / (Total de muestras)\n",
        "\n",
        "Mientras que la precisión es:\n",
        "\n",
        "Precisión = Verdaderos positivos / (Verdaderos positivos + Falsos positivos)\n",
        "\n",
        "Se podría decir que la exactitud mide el porcentaje de valores (positivos y negativos) correctamente predichos por el modelo.\n",
        "Mientras que la precisión mide el porcentaje de valores positivos correctamente predichos por el modelo.\n",
        "\n",
        "Para este caso, la exactitud fue de un 89,98%, mientras que la precisión fue de un 93,62%.\n",
        "\n",
        "Si se quiere obtener el rendimiento general del modelo, la métrica de exactitud es una buena opción. Para obtener un rendimiento más específico, es preferible utilizar la métrica de precisión."
      ],
      "metadata": {
        "id": "BShHm-v3Vruc"
      }
    },
    {
      "cell_type": "code",
      "source": [
        "#Importacion de librerias\n",
        "import pandas as pd\n",
        "import numpy as np\n",
        "from sklearn import metrics\n",
        "from sklearn.linear_model import LogisticRegression\n",
        "from sklearn.model_selection import train_test_split\n",
        "# Organizacion de los datos en X e Y\n",
        "X = df.select_dtypes(include=['number'])\n",
        "Y = df.Status\n",
        "# Separacion de datos de entrenamiento y pruebas\n",
        "X_train, X_test, Y_train, Y_test = train_test_split(X.values, Y.values, test_size=0.3, random_state=84)\n",
        "# Creacion del objeto para ejecutar regresion logistica\n",
        "logistic_regression = LogisticRegression()\n",
        "# Entrenamiento del modelo\n",
        "logistic_regression.fit(X_train, Y_train)\n",
        "# Prueba del modelo entrenado sobre los datos de prueba\n",
        "Y_pred = logistic_regression.predict(X_test)\n",
        "# Calculo de metricas del modelo para revisar que tan bueno es\n",
        "accuracy = metrics.accuracy_score(Y_test, Y_pred)\n",
        "precision = metrics.precision_score(Y_test, Y_pred, pos_label='Developing')\n",
        "\n",
        "print(\"Exactitud: \", accuracy)\n",
        "print(\"Precisión:\", precision)\n",
        "\n"
      ],
      "metadata": {
        "id": "QdRoI47HV9qf",
        "colab": {
          "base_uri": "https://localhost:8080/"
        },
        "outputId": "772268c1-0eb4-43e1-aee8-85b181ff02ee"
      },
      "execution_count": null,
      "outputs": [
        {
          "output_type": "stream",
          "name": "stdout",
          "text": [
            "Exactitud:  0.8728139904610492\n",
            "Precisión: 0.8754325259515571\n"
          ]
        }
      ]
    },
    {
      "cell_type": "markdown",
      "source": [
        "La exactitud obtenida es 87,28%.\n",
        "La precisión obtenida es 87,54%.\n",
        "\n",
        "El motivo por el que las métricas son menores que para SVM es debido a que las etiquetas de entrenamiento fueron menos, lo que implica una menor eficacia del modelo en comparación a SVM."
      ],
      "metadata": {
        "id": "6-dqXBygsoPg"
      }
    }
  ]
}